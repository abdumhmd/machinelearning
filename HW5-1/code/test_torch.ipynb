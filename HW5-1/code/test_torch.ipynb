{
 "cells": [
  {
   "cell_type": "code",
   "execution_count": 17,
   "metadata": {},
   "outputs": [
    {
     "data": {
      "text/plain": [
       "tensor([[[ 0.4644,  0.4300]],\n",
       "\n",
       "        [[-0.8711,  0.0369]]])"
      ]
     },
     "execution_count": 17,
     "metadata": {},
     "output_type": "execute_result"
    }
   ],
   "source": [
    "import torch\n",
    "import numpy as np\n",
    "\n",
    "x=torch.randn(2,1,2);\n",
    "\n",
    "x"
   ]
  },
  {
   "cell_type": "code",
   "execution_count": 4,
   "metadata": {},
   "outputs": [
    {
     "name": "stdout",
     "output_type": "stream",
     "text": [
      "The first tensor:\n",
      "  tensor([[[-1.2741,  0.3135]],\n",
      "\n",
      "        [[-0.1921, -0.5512]]])\n",
      "torch.Size([2, 1, 2])\n",
      "The second tensor:\n",
      "  tensor([[-1.2741,  0.3135],\n",
      "        [-0.1921, -0.5512]])\n",
      "torch.Size([2, 2])\n"
     ]
    }
   ],
   "source": [
    "print(\"The first tensor:\\n \",x)\n",
    "print(x.shape)\n",
    "\n",
    "y=x.squeeze(1)\n",
    "print(\"The second tensor:\\n \",y)\n",
    "print(y.shape)\n"
   ]
  },
  {
   "cell_type": "code",
   "execution_count": 9,
   "metadata": {},
   "outputs": [
    {
     "name": "stdout",
     "output_type": "stream",
     "text": [
      "tensor([[ 0,  1,  2,  3,  4],\n",
      "        [ 5,  6,  7,  8,  9],\n",
      "        [10, 11, 12, 13, 14],\n",
      "        [15, 16, 17, 18, 19],\n",
      "        [20, 21, 22, 23, 24]])\n",
      "tensor(24)\n",
      "torch.return_types.max(\n",
      "values=tensor([20, 21, 22, 23, 24]),\n",
      "indices=tensor([4, 4, 4, 4, 4]))\n"
     ]
    }
   ],
   "source": [
    "x=torch.arange(25).reshape(5,5)\n",
    "print(x)\n",
    "print(x.max())\n",
    "print(x.max(dim=0))"
   ]
  },
  {
   "cell_type": "code",
   "execution_count": 11,
   "metadata": {},
   "outputs": [
    {
     "data": {
      "text/plain": [
       "'cpu'"
      ]
     },
     "execution_count": 11,
     "metadata": {},
     "output_type": "execute_result"
    }
   ],
   "source": [
    "device = 'cuda' if torch.cuda.is_available() else 'cpu'\n",
    "device"
   ]
  },
  {
   "cell_type": "code",
   "execution_count": 14,
   "metadata": {},
   "outputs": [],
   "source": [
    "x = torch.rand(1, 6400)\n",
    "y = torch.rand(6400, 5000)"
   ]
  },
  {
   "cell_type": "code",
   "execution_count": 21,
   "metadata": {},
   "outputs": [
    {
     "name": "stdout",
     "output_type": "stream",
     "text": [
      "8.8 ms ± 335 µs per loop (mean ± std. dev. of 7 runs, 100 loops each)\n"
     ]
    }
   ],
   "source": [
    "%timeit z=(x@y)"
   ]
  },
  {
   "cell_type": "code",
   "execution_count": 22,
   "metadata": {},
   "outputs": [],
   "source": [
    "x=np.random.random((1,6400))\n",
    "y=np.random.random((6400,5000))"
   ]
  },
  {
   "cell_type": "code",
   "execution_count": 23,
   "metadata": {},
   "outputs": [
    {
     "name": "stdout",
     "output_type": "stream",
     "text": [
      "8.92 ms ± 451 µs per loop (mean ± std. dev. of 7 runs, 100 loops each)\n"
     ]
    }
   ],
   "source": [
    "%timeit np.matmul(x,y)"
   ]
  },
  {
   "cell_type": "code",
   "execution_count": 24,
   "metadata": {},
   "outputs": [],
   "source": [
    "x=[[1,2],[3,4],[5,6],[7,8]]\n",
    "y=[[3],[7],[11],[15]]"
   ]
  },
  {
   "cell_type": "code",
   "execution_count": 26,
   "metadata": {},
   "outputs": [],
   "source": [
    "X=torch.tensor(x).float()\n",
    "Y=torch.tensor(y).float()"
   ]
  },
  {
   "cell_type": "code",
   "execution_count": 28,
   "metadata": {},
   "outputs": [],
   "source": [
    "import torch.nn as nn"
   ]
  },
  {
   "cell_type": "code",
   "execution_count": 29,
   "metadata": {},
   "outputs": [],
   "source": [
    "class MyNeuralNet(nn.Module):\n",
    "    def __init__(self):\n",
    "        super().__init__()\n",
    "        self.input_to_hidden_layer=nn.Linear(2,8)\n",
    "        self.hidden_layer_activation=nn.ReLU()\n",
    "        self.hidden_to_output_layer=nn.Linear(8,1)\n",
    "\n",
    "    def forward(self,x):\n",
    "        x=self.input_to_hidden_layer(x)\n",
    "        x=self.hidden_layer_activation(x)\n",
    "        x=self.hidden_to_output_layer(x)\n",
    "        return x\n"
   ]
  },
  {
   "cell_type": "code",
   "execution_count": 30,
   "metadata": {},
   "outputs": [],
   "source": [
    "mynet=MyNeuralNet()"
   ]
  },
  {
   "cell_type": "code",
   "execution_count": 34,
   "metadata": {},
   "outputs": [
    {
     "name": "stdout",
     "output_type": "stream",
     "text": [
      "Parameter containing:\n",
      "tensor([[ 0.1798, -0.6635],\n",
      "        [-0.5569,  0.6514],\n",
      "        [ 0.4623, -0.2976],\n",
      "        [-0.0086,  0.6133],\n",
      "        [ 0.1001, -0.6259],\n",
      "        [-0.0365,  0.5006],\n",
      "        [-0.1263, -0.3685],\n",
      "        [-0.2148,  0.6015]], requires_grad=True)\n",
      "Parameter containing:\n",
      "tensor([-0.6688,  0.4570,  0.5542,  0.4597, -0.2691, -0.5183,  0.4941,  0.6456],\n",
      "       requires_grad=True)\n",
      "Parameter containing:\n",
      "tensor([[ 0.0184, -0.3271,  0.0983, -0.1230, -0.2125,  0.3056, -0.0216,  0.0336]],\n",
      "       requires_grad=True)\n",
      "Parameter containing:\n",
      "tensor([-0.3505], requires_grad=True)\n"
     ]
    }
   ],
   "source": [
    "for par in mynet.parameters():\n",
    "    print (par)"
   ]
  },
  {
   "cell_type": "code",
   "execution_count": 35,
   "metadata": {},
   "outputs": [],
   "source": [
    "loss_func=nn.MSELoss()"
   ]
  },
  {
   "cell_type": "code",
   "execution_count": 37,
   "metadata": {},
   "outputs": [],
   "source": [
    "_Y=mynet(X)\n",
    "loss_value=loss_func(_Y,Y)"
   ]
  },
  {
   "cell_type": "code",
   "execution_count": 39,
   "metadata": {},
   "outputs": [
    {
     "data": {
      "text/plain": [
       "tensor(109.3427, grad_fn=<MseLossBackward0>)"
      ]
     },
     "execution_count": 39,
     "metadata": {},
     "output_type": "execute_result"
    }
   ],
   "source": [
    "loss_value"
   ]
  },
  {
   "cell_type": "code",
   "execution_count": 43,
   "metadata": {},
   "outputs": [],
   "source": [
    "from torch.optim import SGD\n",
    "opt=SGD(mynet.parameters(),lr=0.001)"
   ]
  },
  {
   "cell_type": "code",
   "execution_count": 57,
   "metadata": {},
   "outputs": [],
   "source": [
    "loss_history = []\n",
    "for _ in range(1000):\n",
    "    opt.zero_grad()\n",
    "    loss_value = loss_func(mynet(X),Y)\n",
    "    loss_value.backward()\n",
    "    opt.step()\n",
    "    loss_history.append(loss_value.detach().numpy())"
   ]
  },
  {
   "cell_type": "code",
   "execution_count": 58,
   "metadata": {},
   "outputs": [
    {
     "data": {
      "text/plain": [
       "Text(0, 0.5, 'loss value')"
      ]
     },
     "execution_count": 58,
     "metadata": {},
     "output_type": "execute_result"
    },
    {
     "data": {
      "image/png": "[encoded data removed]",
      "text/plain": [
       "<Figure size 432x288 with 1 Axes>"
      ]
     },
     "metadata": {
      "needs_background": "light"
     },
     "output_type": "display_data"
    }
   ],
   "source": [
    "import matplotlib.pyplot as plt\n",
    "%matplotlib inline\n",
    "plt.plot(loss_history)\n",
    "plt.title('Loss Variation over increasing epochs')\n",
    "plt.xlabel('epochs')\n",
    "plt.ylabel('loss value')"
   ]
  },
  {
   "cell_type": "code",
   "execution_count": null,
   "metadata": {},
   "outputs": [],
   "source": []
  }
 ],
 "metadata": {
  "interpreter": {
   "hash": "b09054984e90bde1d4be131a119f554d2311e7c25014929588d51fe9e113ff34"
  },
  "kernelspec": {
   "display_name": "Python 3.8.13 ('pytorch_m1')",
   "language": "python",
   "name": "python3"
  },
  "language_info": {
   "codemirror_mode": {
    "name": "ipython",
    "version": 3
   },
   "file_extension": ".py",
   "mimetype": "text/x-python",
   "name": "python",
   "nbconvert_exporter": "python",
   "pygments_lexer": "ipython3",
   "version": "3.8.13"
  },
  "orig_nbformat": 4
 },
 "nbformat": 4,
 "nbformat_minor": 2
}
